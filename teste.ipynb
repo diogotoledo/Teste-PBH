{
 "cells": [
  {
   "cell_type": "code",
   "execution_count": null,
   "metadata": {},
   "outputs": [],
   "source": [
    "# Carreggando as bibliotecas necessárias"
   ]
  },
  {
   "cell_type": "code",
   "execution_count": 189,
   "metadata": {
    "ExecuteTime": {
     "end_time": "2022-08-08T18:54:39.728337Z",
     "start_time": "2022-08-08T18:54:39.716163Z"
    }
   },
   "outputs": [],
   "source": [
    "import pandas as pd\n",
    "import seaborn as sns\n",
    "import matplotlib.pyplot as plt\n",
    "\n",
    "sns.set(rc={'figure.figsize':(16, 8)})\n",
    "sns.set_style(\"white\")"
   ]
  },
  {
   "cell_type": "code",
   "execution_count": 229,
   "metadata": {
    "ExecuteTime": {
     "end_time": "2022-08-08T19:21:48.095315Z",
     "start_time": "2022-08-08T19:21:48.088677Z"
    }
   },
   "outputs": [],
   "source": [
    "# Carregando o dataframe"
   ]
  },
  {
   "cell_type": "code",
   "execution_count": 8,
   "metadata": {
    "ExecuteTime": {
     "end_time": "2022-08-08T15:58:22.557020Z",
     "start_time": "2022-08-08T15:58:21.408738Z"
    }
   },
   "outputs": [],
   "source": [
    "df = pd.read_csv('Teste_dados_ecommerce.csv', sep=';', encoding = 'unicode_escape')"
   ]
  },
  {
   "cell_type": "code",
   "execution_count": 228,
   "metadata": {
    "ExecuteTime": {
     "end_time": "2022-08-08T19:21:46.269827Z",
     "start_time": "2022-08-08T19:21:46.265521Z"
    }
   },
   "outputs": [],
   "source": [
    "# Analisando a estrutura do Dataset"
   ]
  },
  {
   "cell_type": "code",
   "execution_count": 10,
   "metadata": {
    "ExecuteTime": {
     "end_time": "2022-08-08T16:01:01.903069Z",
     "start_time": "2022-08-08T16:01:01.371956Z"
    }
   },
   "outputs": [
    {
     "name": "stdout",
     "output_type": "stream",
     "text": [
      "<class 'pandas.core.frame.DataFrame'>\n",
      "RangeIndex: 541909 entries, 0 to 541908\n",
      "Data columns (total 9 columns):\n",
      " #   Column       Non-Null Count   Dtype  \n",
      "---  ------       --------------   -----  \n",
      " 0   InvoiceNo    541909 non-null  object \n",
      " 1   StoreId      541909 non-null  int64  \n",
      " 2   StockCode    541909 non-null  object \n",
      " 3   Description  540455 non-null  object \n",
      " 4   Quantity     541909 non-null  int64  \n",
      " 5   InvoiceDate  541909 non-null  object \n",
      " 6   UnitPrice    541909 non-null  float64\n",
      " 7   CustomerID   406829 non-null  float64\n",
      " 8   Country      541909 non-null  object \n",
      "dtypes: float64(2), int64(2), object(5)\n",
      "memory usage: 37.2+ MB\n"
     ]
    }
   ],
   "source": [
    "df.info()"
   ]
  },
  {
   "cell_type": "markdown",
   "metadata": {},
   "source": [
    "##### Aplicando as transformações na coluna Invoice Date para podermos analisar o mês da Fatura para responder a questão 2"
   ]
  },
  {
   "cell_type": "code",
   "execution_count": 107,
   "metadata": {
    "ExecuteTime": {
     "end_time": "2022-08-08T18:03:02.289541Z",
     "start_time": "2022-08-08T18:03:02.004176Z"
    }
   },
   "outputs": [],
   "source": [
    "df['InvoiceDate'] = df['InvoiceDate'].apply(lambda x: x.split(\" \")[0])\n",
    "df['InvoiceDate'] = pd.to_datetime(df['InvoiceDate'])\n",
    "df['Month'] = df['InvoiceDate'].apply(lambda x: x.month)"
   ]
  },
  {
   "cell_type": "code",
   "execution_count": 227,
   "metadata": {
    "ExecuteTime": {
     "end_time": "2022-08-08T19:21:40.995943Z",
     "start_time": "2022-08-08T19:21:40.991718Z"
    }
   },
   "outputs": [],
   "source": [
    "# Função que altera a coluna do mês para seu nome de acordo com o número do mês"
   ]
  },
  {
   "cell_type": "code",
   "execution_count": 134,
   "metadata": {
    "ExecuteTime": {
     "end_time": "2022-08-08T18:25:51.619568Z",
     "start_time": "2022-08-08T18:25:51.608412Z"
    }
   },
   "outputs": [],
   "source": [
    "def normalize_month(x):\n",
    "    if x == 1:\n",
    "        return 'Janeiro'\n",
    "    elif x == 2:\n",
    "        return 'Fevereiro'\n",
    "    elif x == 3:\n",
    "        return 'Março'\n",
    "    elif x == 4:\n",
    "        return 'Abril'\n",
    "    elif x == 5:\n",
    "        return 'Maio'\n",
    "    elif x == 6:\n",
    "        return 'Junho'\n",
    "    elif x == 7:\n",
    "        return 'Julho'\n",
    "    elif x == 8:\n",
    "        return 'Agosto'\n",
    "    elif x == 9:\n",
    "        return 'Setembro'\n",
    "    elif x == 10:\n",
    "        return 'Outubro'\n",
    "    elif x == 11:\n",
    "        return 'Novembro'\n",
    "    elif x == 12:\n",
    "        return 'Dezembro'    "
   ]
  },
  {
   "cell_type": "code",
   "execution_count": null,
   "metadata": {},
   "outputs": [],
   "source": [
    "# Aplicando a função que transforma o número do mês em seu respectivo nome"
   ]
  },
  {
   "cell_type": "code",
   "execution_count": 135,
   "metadata": {
    "ExecuteTime": {
     "end_time": "2022-08-08T18:26:06.753613Z",
     "start_time": "2022-08-08T18:26:06.491842Z"
    }
   },
   "outputs": [],
   "source": [
    "df['Month'] = df['Month'].apply(lambda x: normalize_month(x))"
   ]
  },
  {
   "cell_type": "code",
   "execution_count": 230,
   "metadata": {
    "ExecuteTime": {
     "end_time": "2022-08-08T19:22:41.445516Z",
     "start_time": "2022-08-08T19:22:41.435635Z"
    }
   },
   "outputs": [],
   "source": [
    "# Verificando o dataset"
   ]
  },
  {
   "cell_type": "code",
   "execution_count": 136,
   "metadata": {
    "ExecuteTime": {
     "end_time": "2022-08-08T18:26:08.599952Z",
     "start_time": "2022-08-08T18:26:08.567246Z"
    }
   },
   "outputs": [
    {
     "data": {
      "text/html": [
       "<div>\n",
       "<style scoped>\n",
       "    .dataframe tbody tr th:only-of-type {\n",
       "        vertical-align: middle;\n",
       "    }\n",
       "\n",
       "    .dataframe tbody tr th {\n",
       "        vertical-align: top;\n",
       "    }\n",
       "\n",
       "    .dataframe thead th {\n",
       "        text-align: right;\n",
       "    }\n",
       "</style>\n",
       "<table border=\"1\" class=\"dataframe\">\n",
       "  <thead>\n",
       "    <tr style=\"text-align: right;\">\n",
       "      <th></th>\n",
       "      <th>InvoiceNo</th>\n",
       "      <th>StoreId</th>\n",
       "      <th>StockCode</th>\n",
       "      <th>Description</th>\n",
       "      <th>Quantity</th>\n",
       "      <th>InvoiceDate</th>\n",
       "      <th>UnitPrice</th>\n",
       "      <th>CustomerID</th>\n",
       "      <th>Country</th>\n",
       "      <th>Month</th>\n",
       "    </tr>\n",
       "  </thead>\n",
       "  <tbody>\n",
       "    <tr>\n",
       "      <th>0</th>\n",
       "      <td>536365</td>\n",
       "      <td>11</td>\n",
       "      <td>85123A</td>\n",
       "      <td>WHITE HANGING HEART T-LIGHT HOLDER</td>\n",
       "      <td>6</td>\n",
       "      <td>2010-12-01</td>\n",
       "      <td>2.55</td>\n",
       "      <td>17850.0</td>\n",
       "      <td>United Kingdom</td>\n",
       "      <td>Dezembro</td>\n",
       "    </tr>\n",
       "    <tr>\n",
       "      <th>1</th>\n",
       "      <td>536365</td>\n",
       "      <td>9</td>\n",
       "      <td>71053</td>\n",
       "      <td>WHITE METAL LANTERN</td>\n",
       "      <td>6</td>\n",
       "      <td>2010-12-01</td>\n",
       "      <td>3.39</td>\n",
       "      <td>17850.0</td>\n",
       "      <td>United Kingdom</td>\n",
       "      <td>Dezembro</td>\n",
       "    </tr>\n",
       "    <tr>\n",
       "      <th>2</th>\n",
       "      <td>536365</td>\n",
       "      <td>17</td>\n",
       "      <td>84406B</td>\n",
       "      <td>CREAM CUPID HEARTS COAT HANGER</td>\n",
       "      <td>8</td>\n",
       "      <td>2010-12-01</td>\n",
       "      <td>2.75</td>\n",
       "      <td>17850.0</td>\n",
       "      <td>United Kingdom</td>\n",
       "      <td>Dezembro</td>\n",
       "    </tr>\n",
       "    <tr>\n",
       "      <th>3</th>\n",
       "      <td>536365</td>\n",
       "      <td>15</td>\n",
       "      <td>84029G</td>\n",
       "      <td>KNITTED UNION FLAG HOT WATER BOTTLE</td>\n",
       "      <td>6</td>\n",
       "      <td>2010-12-01</td>\n",
       "      <td>3.39</td>\n",
       "      <td>17850.0</td>\n",
       "      <td>United Kingdom</td>\n",
       "      <td>Dezembro</td>\n",
       "    </tr>\n",
       "    <tr>\n",
       "      <th>4</th>\n",
       "      <td>536365</td>\n",
       "      <td>17</td>\n",
       "      <td>84029E</td>\n",
       "      <td>RED WOOLLY HOTTIE WHITE HEART.</td>\n",
       "      <td>6</td>\n",
       "      <td>2010-12-01</td>\n",
       "      <td>3.39</td>\n",
       "      <td>17850.0</td>\n",
       "      <td>United Kingdom</td>\n",
       "      <td>Dezembro</td>\n",
       "    </tr>\n",
       "    <tr>\n",
       "      <th>5</th>\n",
       "      <td>536365</td>\n",
       "      <td>2</td>\n",
       "      <td>22752</td>\n",
       "      <td>SET 7 BABUSHKA NESTING BOXES</td>\n",
       "      <td>2</td>\n",
       "      <td>2010-12-01</td>\n",
       "      <td>7.65</td>\n",
       "      <td>17850.0</td>\n",
       "      <td>United Kingdom</td>\n",
       "      <td>Dezembro</td>\n",
       "    </tr>\n",
       "    <tr>\n",
       "      <th>6</th>\n",
       "      <td>536365</td>\n",
       "      <td>2</td>\n",
       "      <td>21730</td>\n",
       "      <td>GLASS STAR FROSTED T-LIGHT HOLDER</td>\n",
       "      <td>6</td>\n",
       "      <td>2010-12-01</td>\n",
       "      <td>4.25</td>\n",
       "      <td>17850.0</td>\n",
       "      <td>United Kingdom</td>\n",
       "      <td>Dezembro</td>\n",
       "    </tr>\n",
       "    <tr>\n",
       "      <th>7</th>\n",
       "      <td>536366</td>\n",
       "      <td>5</td>\n",
       "      <td>22633</td>\n",
       "      <td>HAND WARMER UNION JACK</td>\n",
       "      <td>6</td>\n",
       "      <td>2010-12-01</td>\n",
       "      <td>1.85</td>\n",
       "      <td>17850.0</td>\n",
       "      <td>United Kingdom</td>\n",
       "      <td>Dezembro</td>\n",
       "    </tr>\n",
       "    <tr>\n",
       "      <th>8</th>\n",
       "      <td>536366</td>\n",
       "      <td>2</td>\n",
       "      <td>22632</td>\n",
       "      <td>HAND WARMER RED POLKA DOT</td>\n",
       "      <td>6</td>\n",
       "      <td>2010-12-01</td>\n",
       "      <td>1.85</td>\n",
       "      <td>17850.0</td>\n",
       "      <td>United Kingdom</td>\n",
       "      <td>Dezembro</td>\n",
       "    </tr>\n",
       "    <tr>\n",
       "      <th>9</th>\n",
       "      <td>536367</td>\n",
       "      <td>4</td>\n",
       "      <td>84879</td>\n",
       "      <td>ASSORTED COLOUR BIRD ORNAMENT</td>\n",
       "      <td>32</td>\n",
       "      <td>2010-12-01</td>\n",
       "      <td>1.69</td>\n",
       "      <td>13047.0</td>\n",
       "      <td>United Kingdom</td>\n",
       "      <td>Dezembro</td>\n",
       "    </tr>\n",
       "  </tbody>\n",
       "</table>\n",
       "</div>"
      ],
      "text/plain": [
       "  InvoiceNo  StoreId StockCode                          Description  Quantity  \\\n",
       "0    536365       11    85123A   WHITE HANGING HEART T-LIGHT HOLDER         6   \n",
       "1    536365        9     71053                  WHITE METAL LANTERN         6   \n",
       "2    536365       17    84406B       CREAM CUPID HEARTS COAT HANGER         8   \n",
       "3    536365       15    84029G  KNITTED UNION FLAG HOT WATER BOTTLE         6   \n",
       "4    536365       17    84029E       RED WOOLLY HOTTIE WHITE HEART.         6   \n",
       "5    536365        2     22752         SET 7 BABUSHKA NESTING BOXES         2   \n",
       "6    536365        2     21730    GLASS STAR FROSTED T-LIGHT HOLDER         6   \n",
       "7    536366        5     22633               HAND WARMER UNION JACK         6   \n",
       "8    536366        2     22632            HAND WARMER RED POLKA DOT         6   \n",
       "9    536367        4     84879        ASSORTED COLOUR BIRD ORNAMENT        32   \n",
       "\n",
       "  InvoiceDate  UnitPrice  CustomerID         Country     Month  \n",
       "0  2010-12-01       2.55     17850.0  United Kingdom  Dezembro  \n",
       "1  2010-12-01       3.39     17850.0  United Kingdom  Dezembro  \n",
       "2  2010-12-01       2.75     17850.0  United Kingdom  Dezembro  \n",
       "3  2010-12-01       3.39     17850.0  United Kingdom  Dezembro  \n",
       "4  2010-12-01       3.39     17850.0  United Kingdom  Dezembro  \n",
       "5  2010-12-01       7.65     17850.0  United Kingdom  Dezembro  \n",
       "6  2010-12-01       4.25     17850.0  United Kingdom  Dezembro  \n",
       "7  2010-12-01       1.85     17850.0  United Kingdom  Dezembro  \n",
       "8  2010-12-01       1.85     17850.0  United Kingdom  Dezembro  \n",
       "9  2010-12-01       1.69     13047.0  United Kingdom  Dezembro  "
      ]
     },
     "execution_count": 136,
     "metadata": {},
     "output_type": "execute_result"
    }
   ],
   "source": [
    "df.head(10)"
   ]
  },
  {
   "cell_type": "markdown",
   "metadata": {},
   "source": [
    "## Respostas"
   ]
  },
  {
   "cell_type": "markdown",
   "metadata": {},
   "source": [
    "### Questão 1"
   ]
  },
  {
   "cell_type": "markdown",
   "metadata": {},
   "source": [
    "##### Quais as 10 lojas com maior faturamento em pedidos? Sumarize os dados dessa loja apresentando os seguintes campos:\n",
    "- StoreId\n",
    "- Volume total de itens vendidos\n",
    "- Valor total vendido\n"
   ]
  },
  {
   "cell_type": "code",
   "execution_count": 224,
   "metadata": {
    "ExecuteTime": {
     "end_time": "2022-08-08T19:15:09.410364Z",
     "start_time": "2022-08-08T19:15:09.353778Z"
    }
   },
   "outputs": [
    {
     "data": {
      "text/html": [
       "<div>\n",
       "<style scoped>\n",
       "    .dataframe tbody tr th:only-of-type {\n",
       "        vertical-align: middle;\n",
       "    }\n",
       "\n",
       "    .dataframe tbody tr th {\n",
       "        vertical-align: top;\n",
       "    }\n",
       "\n",
       "    .dataframe thead th {\n",
       "        text-align: right;\n",
       "    }\n",
       "</style>\n",
       "<table border=\"1\" class=\"dataframe\">\n",
       "  <thead>\n",
       "    <tr style=\"text-align: right;\">\n",
       "      <th></th>\n",
       "      <th>Volume total de itens vendidos</th>\n",
       "      <th>Valor total vendido</th>\n",
       "    </tr>\n",
       "    <tr>\n",
       "      <th>StoreId</th>\n",
       "      <th></th>\n",
       "      <th></th>\n",
       "    </tr>\n",
       "  </thead>\n",
       "  <tbody>\n",
       "    <tr>\n",
       "      <th>14</th>\n",
       "      <td>250820</td>\n",
       "      <td>161712.58</td>\n",
       "    </tr>\n",
       "    <tr>\n",
       "      <th>16</th>\n",
       "      <td>259878</td>\n",
       "      <td>157309.85</td>\n",
       "    </tr>\n",
       "    <tr>\n",
       "      <th>6</th>\n",
       "      <td>265025</td>\n",
       "      <td>138086.96</td>\n",
       "    </tr>\n",
       "    <tr>\n",
       "      <th>13</th>\n",
       "      <td>266709</td>\n",
       "      <td>131030.82</td>\n",
       "    </tr>\n",
       "    <tr>\n",
       "      <th>4</th>\n",
       "      <td>350583</td>\n",
       "      <td>130512.01</td>\n",
       "    </tr>\n",
       "    <tr>\n",
       "      <th>7</th>\n",
       "      <td>252373</td>\n",
       "      <td>127689.89</td>\n",
       "    </tr>\n",
       "    <tr>\n",
       "      <th>10</th>\n",
       "      <td>258989</td>\n",
       "      <td>124634.52</td>\n",
       "    </tr>\n",
       "    <tr>\n",
       "      <th>2</th>\n",
       "      <td>241355</td>\n",
       "      <td>124041.06</td>\n",
       "    </tr>\n",
       "    <tr>\n",
       "      <th>9</th>\n",
       "      <td>271067</td>\n",
       "      <td>123461.42</td>\n",
       "    </tr>\n",
       "    <tr>\n",
       "      <th>19</th>\n",
       "      <td>178909</td>\n",
       "      <td>122607.91</td>\n",
       "    </tr>\n",
       "  </tbody>\n",
       "</table>\n",
       "</div>"
      ],
      "text/plain": [
       "         Volume total de itens vendidos  Valor total vendido\n",
       "StoreId                                                     \n",
       "14                               250820            161712.58\n",
       "16                               259878            157309.85\n",
       "6                                265025            138086.96\n",
       "13                               266709            131030.82\n",
       "4                                350583            130512.01\n",
       "7                                252373            127689.89\n",
       "10                               258989            124634.52\n",
       "2                                241355            124041.06\n",
       "9                                271067            123461.42\n",
       "19                               178909            122607.91"
      ]
     },
     "execution_count": 224,
     "metadata": {},
     "output_type": "execute_result"
    }
   ],
   "source": [
    "questao1 = df.groupby('StoreId')[['Quantity', 'UnitPrice']].sum().sort_values('UnitPrice', ascending=False)\n",
    "questao1.rename(columns={'Quantity' : 'Volume total de itens vendidos', 'UnitPrice': 'Valor total vendido'}, \n",
    "               inplace=True)\n",
    "round(questao1.head(10), 2)"
   ]
  },
  {
   "cell_type": "markdown",
   "metadata": {},
   "source": [
    "### Questão 2"
   ]
  },
  {
   "cell_type": "markdown",
   "metadata": {},
   "source": [
    "##### Qual ticket médio mensal dos pedidos apresentados?"
   ]
  },
  {
   "cell_type": "code",
   "execution_count": 222,
   "metadata": {
    "ExecuteTime": {
     "end_time": "2022-08-08T19:09:19.414642Z",
     "start_time": "2022-08-08T19:09:19.344993Z"
    }
   },
   "outputs": [
    {
     "data": {
      "text/html": [
       "<div>\n",
       "<style scoped>\n",
       "    .dataframe tbody tr th:only-of-type {\n",
       "        vertical-align: middle;\n",
       "    }\n",
       "\n",
       "    .dataframe tbody tr th {\n",
       "        vertical-align: top;\n",
       "    }\n",
       "\n",
       "    .dataframe thead th {\n",
       "        text-align: right;\n",
       "    }\n",
       "</style>\n",
       "<table border=\"1\" class=\"dataframe\">\n",
       "  <thead>\n",
       "    <tr style=\"text-align: right;\">\n",
       "      <th></th>\n",
       "      <th>Ticket Médio</th>\n",
       "    </tr>\n",
       "    <tr>\n",
       "      <th>Month</th>\n",
       "      <th></th>\n",
       "    </tr>\n",
       "  </thead>\n",
       "  <tbody>\n",
       "    <tr>\n",
       "      <th>Dezembro</th>\n",
       "      <td>5.800025</td>\n",
       "    </tr>\n",
       "    <tr>\n",
       "      <th>Junho</th>\n",
       "      <td>5.443330</td>\n",
       "    </tr>\n",
       "    <tr>\n",
       "      <th>Maio</th>\n",
       "      <td>5.149486</td>\n",
       "    </tr>\n",
       "    <tr>\n",
       "      <th>Janeiro</th>\n",
       "      <td>4.915151</td>\n",
       "    </tr>\n",
       "    <tr>\n",
       "      <th>Março</th>\n",
       "      <td>4.666554</td>\n",
       "    </tr>\n",
       "    <tr>\n",
       "      <th>Fevereiro</th>\n",
       "      <td>4.599876</td>\n",
       "    </tr>\n",
       "    <tr>\n",
       "      <th>Julho</th>\n",
       "      <td>4.350088</td>\n",
       "    </tr>\n",
       "    <tr>\n",
       "      <th>Outubro</th>\n",
       "      <td>4.336935</td>\n",
       "    </tr>\n",
       "    <tr>\n",
       "      <th>Abril</th>\n",
       "      <td>4.317588</td>\n",
       "    </tr>\n",
       "    <tr>\n",
       "      <th>Agosto</th>\n",
       "      <td>4.262149</td>\n",
       "    </tr>\n",
       "    <tr>\n",
       "      <th>Setembro</th>\n",
       "      <td>3.966774</td>\n",
       "    </tr>\n",
       "    <tr>\n",
       "      <th>Novembro</th>\n",
       "      <td>3.861952</td>\n",
       "    </tr>\n",
       "  </tbody>\n",
       "</table>\n",
       "</div>"
      ],
      "text/plain": [
       "           Ticket Médio\n",
       "Month                  \n",
       "Dezembro       5.800025\n",
       "Junho          5.443330\n",
       "Maio           5.149486\n",
       "Janeiro        4.915151\n",
       "Março          4.666554\n",
       "Fevereiro      4.599876\n",
       "Julho          4.350088\n",
       "Outubro        4.336935\n",
       "Abril          4.317588\n",
       "Agosto         4.262149\n",
       "Setembro       3.966774\n",
       "Novembro       3.861952"
      ]
     },
     "execution_count": 222,
     "metadata": {},
     "output_type": "execute_result"
    }
   ],
   "source": [
    "questao2_1 = df.groupby('Month')[['UnitPrice']].mean().sort_values('UnitPrice', ascending=False)\n",
    "questao2_1.rename(columns={'UnitPrice': 'Ticket Médio'}, inplace=True)\n",
    "questao2_1"
   ]
  },
  {
   "cell_type": "markdown",
   "metadata": {},
   "source": [
    "##### Qual o volume médio mensal de vendas (todas as lojas)?"
   ]
  },
  {
   "cell_type": "code",
   "execution_count": 223,
   "metadata": {
    "ExecuteTime": {
     "end_time": "2022-08-08T19:09:26.744654Z",
     "start_time": "2022-08-08T19:09:26.671450Z"
    }
   },
   "outputs": [
    {
     "data": {
      "text/html": [
       "<div>\n",
       "<style scoped>\n",
       "    .dataframe tbody tr th:only-of-type {\n",
       "        vertical-align: middle;\n",
       "    }\n",
       "\n",
       "    .dataframe tbody tr th {\n",
       "        vertical-align: top;\n",
       "    }\n",
       "\n",
       "    .dataframe thead th {\n",
       "        text-align: right;\n",
       "    }\n",
       "</style>\n",
       "<table border=\"1\" class=\"dataframe\">\n",
       "  <thead>\n",
       "    <tr style=\"text-align: right;\">\n",
       "      <th></th>\n",
       "      <th>Volume Médio</th>\n",
       "    </tr>\n",
       "    <tr>\n",
       "      <th>Month</th>\n",
       "      <th></th>\n",
       "    </tr>\n",
       "  </thead>\n",
       "  <tbody>\n",
       "    <tr>\n",
       "      <th>Agosto</th>\n",
       "      <td>11.512272</td>\n",
       "    </tr>\n",
       "    <tr>\n",
       "      <th>Setembro</th>\n",
       "      <td>10.946860</td>\n",
       "    </tr>\n",
       "    <tr>\n",
       "      <th>Maio</th>\n",
       "      <td>10.272509</td>\n",
       "    </tr>\n",
       "    <tr>\n",
       "      <th>Fevereiro</th>\n",
       "      <td>10.033169</td>\n",
       "    </tr>\n",
       "    <tr>\n",
       "      <th>Julho</th>\n",
       "      <td>9.897161</td>\n",
       "    </tr>\n",
       "    <tr>\n",
       "      <th>Abril</th>\n",
       "      <td>9.663658</td>\n",
       "    </tr>\n",
       "    <tr>\n",
       "      <th>Março</th>\n",
       "      <td>9.575269</td>\n",
       "    </tr>\n",
       "    <tr>\n",
       "      <th>Outubro</th>\n",
       "      <td>9.392710</td>\n",
       "    </tr>\n",
       "    <tr>\n",
       "      <th>Junho</th>\n",
       "      <td>9.264604</td>\n",
       "    </tr>\n",
       "    <tr>\n",
       "      <th>Janeiro</th>\n",
       "      <td>8.790679</td>\n",
       "    </tr>\n",
       "    <tr>\n",
       "      <th>Novembro</th>\n",
       "      <td>8.738960</td>\n",
       "    </tr>\n",
       "    <tr>\n",
       "      <th>Dezembro</th>\n",
       "      <td>8.360453</td>\n",
       "    </tr>\n",
       "  </tbody>\n",
       "</table>\n",
       "</div>"
      ],
      "text/plain": [
       "           Volume Médio\n",
       "Month                  \n",
       "Agosto        11.512272\n",
       "Setembro      10.946860\n",
       "Maio          10.272509\n",
       "Fevereiro     10.033169\n",
       "Julho          9.897161\n",
       "Abril          9.663658\n",
       "Março          9.575269\n",
       "Outubro        9.392710\n",
       "Junho          9.264604\n",
       "Janeiro        8.790679\n",
       "Novembro       8.738960\n",
       "Dezembro       8.360453"
      ]
     },
     "execution_count": 223,
     "metadata": {},
     "output_type": "execute_result"
    }
   ],
   "source": [
    "questao2_2 = df.groupby('Month')[['Quantity']].mean().sort_values('Quantity', ascending=False)\n",
    "questao2_2.rename(columns={'Quantity' : 'Volume Médio'}, inplace=True)\n",
    "questao2_2"
   ]
  },
  {
   "cell_type": "markdown",
   "metadata": {},
   "source": [
    "##### Questão 2 - Vizualizando Gráficamente os dados de Ticket Médio Mensal e Volume Médio Mensal"
   ]
  },
  {
   "cell_type": "code",
   "execution_count": 237,
   "metadata": {
    "ExecuteTime": {
     "end_time": "2022-08-08T19:35:32.525343Z",
     "start_time": "2022-08-08T19:35:31.896872Z"
    },
    "scrolled": false
   },
   "outputs": [
    {
     "data": {
      "image/png": "[encoded data removed]",
      "text/plain": [
       "<Figure size 1152x576 with 2 Axes>"
      ]
     },
     "metadata": {},
     "output_type": "display_data"
    }
   ],
   "source": [
    "fig, axs = plt.subplots(ncols=2)\n",
    "\n",
    "sns.barplot(x=questao2_1.index, y=questao2_1['Ticket Médio'].values, palette='mako', ax=axs[0])\n",
    "ticks = axs[0].get_xticklabels()\n",
    "axs[0].set_xticklabels(ticks, rotation=90)\n",
    "axs[0].set_title('Tickect Médio Mensal')\n",
    "axs[0].set_xlabel('')\n",
    "\n",
    "sns.barplot(x=questao2_2.index, y=questao2_2['Volume Médio'].values, palette='rocket', ax=axs[1])\n",
    "ticks = axs[1].get_xticklabels()\n",
    "axs[1].set_xticklabels(ticks, rotation=90)\n",
    "axs[1].set_title('Volume Médio Mensal')\n",
    "axs[1].set_xlabel('');"
   ]
  },
  {
   "cell_type": "markdown",
   "metadata": {},
   "source": [
    "### Questão 3"
   ]
  },
  {
   "cell_type": "markdown",
   "metadata": {},
   "source": [
    "##### Existe alguma correlação entre o país e o volume de itens vendidos?\n",
    "\n",
    "Podemos observar que a grande maioria dos pedidos são originados da Europa, predominantemente do Reino Unido, podemos afirmar que o mercado alvo seria primeiramente o mercado Inglês e depois Europa em geral que reperesentam a grande maioria dos itens comercializados."
   ]
  },
  {
   "cell_type": "code",
   "execution_count": 239,
   "metadata": {
    "ExecuteTime": {
     "end_time": "2022-08-08T19:38:59.054862Z",
     "start_time": "2022-08-08T19:38:58.974641Z"
    }
   },
   "outputs": [
    {
     "data": {
      "text/html": [
       "<div>\n",
       "<style scoped>\n",
       "    .dataframe tbody tr th:only-of-type {\n",
       "        vertical-align: middle;\n",
       "    }\n",
       "\n",
       "    .dataframe tbody tr th {\n",
       "        vertical-align: top;\n",
       "    }\n",
       "\n",
       "    .dataframe thead th {\n",
       "        text-align: right;\n",
       "    }\n",
       "</style>\n",
       "<table border=\"1\" class=\"dataframe\">\n",
       "  <thead>\n",
       "    <tr style=\"text-align: right;\">\n",
       "      <th></th>\n",
       "      <th>Quantity</th>\n",
       "    </tr>\n",
       "    <tr>\n",
       "      <th>Country</th>\n",
       "      <th></th>\n",
       "    </tr>\n",
       "  </thead>\n",
       "  <tbody>\n",
       "    <tr>\n",
       "      <th>United Kingdom</th>\n",
       "      <td>4263829</td>\n",
       "    </tr>\n",
       "    <tr>\n",
       "      <th>Netherlands</th>\n",
       "      <td>200128</td>\n",
       "    </tr>\n",
       "    <tr>\n",
       "      <th>EIRE</th>\n",
       "      <td>142637</td>\n",
       "    </tr>\n",
       "    <tr>\n",
       "      <th>Germany</th>\n",
       "      <td>117448</td>\n",
       "    </tr>\n",
       "    <tr>\n",
       "      <th>France</th>\n",
       "      <td>110480</td>\n",
       "    </tr>\n",
       "    <tr>\n",
       "      <th>Australia</th>\n",
       "      <td>83653</td>\n",
       "    </tr>\n",
       "    <tr>\n",
       "      <th>Sweden</th>\n",
       "      <td>35637</td>\n",
       "    </tr>\n",
       "    <tr>\n",
       "      <th>Switzerland</th>\n",
       "      <td>30325</td>\n",
       "    </tr>\n",
       "    <tr>\n",
       "      <th>Spain</th>\n",
       "      <td>26824</td>\n",
       "    </tr>\n",
       "    <tr>\n",
       "      <th>Japan</th>\n",
       "      <td>25218</td>\n",
       "    </tr>\n",
       "    <tr>\n",
       "      <th>Belgium</th>\n",
       "      <td>23152</td>\n",
       "    </tr>\n",
       "    <tr>\n",
       "      <th>Norway</th>\n",
       "      <td>19247</td>\n",
       "    </tr>\n",
       "    <tr>\n",
       "      <th>Portugal</th>\n",
       "      <td>16180</td>\n",
       "    </tr>\n",
       "    <tr>\n",
       "      <th>Finland</th>\n",
       "      <td>10666</td>\n",
       "    </tr>\n",
       "    <tr>\n",
       "      <th>Channel Islands</th>\n",
       "      <td>9479</td>\n",
       "    </tr>\n",
       "    <tr>\n",
       "      <th>Denmark</th>\n",
       "      <td>8188</td>\n",
       "    </tr>\n",
       "    <tr>\n",
       "      <th>Italy</th>\n",
       "      <td>7999</td>\n",
       "    </tr>\n",
       "    <tr>\n",
       "      <th>Cyprus</th>\n",
       "      <td>6317</td>\n",
       "    </tr>\n",
       "    <tr>\n",
       "      <th>Singapore</th>\n",
       "      <td>5234</td>\n",
       "    </tr>\n",
       "    <tr>\n",
       "      <th>Austria</th>\n",
       "      <td>4827</td>\n",
       "    </tr>\n",
       "    <tr>\n",
       "      <th>Hong Kong</th>\n",
       "      <td>4769</td>\n",
       "    </tr>\n",
       "    <tr>\n",
       "      <th>Israel</th>\n",
       "      <td>4353</td>\n",
       "    </tr>\n",
       "    <tr>\n",
       "      <th>Poland</th>\n",
       "      <td>3653</td>\n",
       "    </tr>\n",
       "    <tr>\n",
       "      <th>Unspecified</th>\n",
       "      <td>3300</td>\n",
       "    </tr>\n",
       "    <tr>\n",
       "      <th>Canada</th>\n",
       "      <td>2763</td>\n",
       "    </tr>\n",
       "    <tr>\n",
       "      <th>Iceland</th>\n",
       "      <td>2458</td>\n",
       "    </tr>\n",
       "    <tr>\n",
       "      <th>Greece</th>\n",
       "      <td>1556</td>\n",
       "    </tr>\n",
       "    <tr>\n",
       "      <th>USA</th>\n",
       "      <td>1034</td>\n",
       "    </tr>\n",
       "    <tr>\n",
       "      <th>United Arab Emirates</th>\n",
       "      <td>982</td>\n",
       "    </tr>\n",
       "    <tr>\n",
       "      <th>Malta</th>\n",
       "      <td>944</td>\n",
       "    </tr>\n",
       "    <tr>\n",
       "      <th>Lithuania</th>\n",
       "      <td>652</td>\n",
       "    </tr>\n",
       "    <tr>\n",
       "      <th>Czech Republic</th>\n",
       "      <td>592</td>\n",
       "    </tr>\n",
       "    <tr>\n",
       "      <th>European Community</th>\n",
       "      <td>497</td>\n",
       "    </tr>\n",
       "    <tr>\n",
       "      <th>Lebanon</th>\n",
       "      <td>386</td>\n",
       "    </tr>\n",
       "    <tr>\n",
       "      <th>Brazil</th>\n",
       "      <td>356</td>\n",
       "    </tr>\n",
       "    <tr>\n",
       "      <th>RSA</th>\n",
       "      <td>352</td>\n",
       "    </tr>\n",
       "    <tr>\n",
       "      <th>Bahrain</th>\n",
       "      <td>260</td>\n",
       "    </tr>\n",
       "    <tr>\n",
       "      <th>Saudi Arabia</th>\n",
       "      <td>75</td>\n",
       "    </tr>\n",
       "  </tbody>\n",
       "</table>\n",
       "</div>"
      ],
      "text/plain": [
       "                      Quantity\n",
       "Country                       \n",
       "United Kingdom         4263829\n",
       "Netherlands             200128\n",
       "EIRE                    142637\n",
       "Germany                 117448\n",
       "France                  110480\n",
       "Australia                83653\n",
       "Sweden                   35637\n",
       "Switzerland              30325\n",
       "Spain                    26824\n",
       "Japan                    25218\n",
       "Belgium                  23152\n",
       "Norway                   19247\n",
       "Portugal                 16180\n",
       "Finland                  10666\n",
       "Channel Islands           9479\n",
       "Denmark                   8188\n",
       "Italy                     7999\n",
       "Cyprus                    6317\n",
       "Singapore                 5234\n",
       "Austria                   4827\n",
       "Hong Kong                 4769\n",
       "Israel                    4353\n",
       "Poland                    3653\n",
       "Unspecified               3300\n",
       "Canada                    2763\n",
       "Iceland                   2458\n",
       "Greece                    1556\n",
       "USA                       1034\n",
       "United Arab Emirates       982\n",
       "Malta                      944\n",
       "Lithuania                  652\n",
       "Czech Republic             592\n",
       "European Community         497\n",
       "Lebanon                    386\n",
       "Brazil                     356\n",
       "RSA                        352\n",
       "Bahrain                    260\n",
       "Saudi Arabia                75"
      ]
     },
     "execution_count": 239,
     "metadata": {},
     "output_type": "execute_result"
    }
   ],
   "source": [
    "questao3 = df.groupby('Country')[['Quantity']].sum().sort_values('Quantity', ascending=False)\n",
    "round(questao3, 2)"
   ]
  },
  {
   "cell_type": "markdown",
   "metadata": {},
   "source": [
    "##### Qual o item mais vendido e o menos vendido no país com maior volume de vendas?"
   ]
  },
  {
   "cell_type": "markdown",
   "metadata": {},
   "source": [
    "##### Produto mais vendido"
   ]
  },
  {
   "cell_type": "code",
   "execution_count": 225,
   "metadata": {
    "ExecuteTime": {
     "end_time": "2022-08-08T19:19:49.721747Z",
     "start_time": "2022-08-08T19:19:49.490549Z"
    }
   },
   "outputs": [
    {
     "data": {
      "text/html": [
       "<div>\n",
       "<style scoped>\n",
       "    .dataframe tbody tr th:only-of-type {\n",
       "        vertical-align: middle;\n",
       "    }\n",
       "\n",
       "    .dataframe tbody tr th {\n",
       "        vertical-align: top;\n",
       "    }\n",
       "\n",
       "    .dataframe thead th {\n",
       "        text-align: right;\n",
       "    }\n",
       "</style>\n",
       "<table border=\"1\" class=\"dataframe\">\n",
       "  <thead>\n",
       "    <tr style=\"text-align: right;\">\n",
       "      <th></th>\n",
       "      <th>Quantity</th>\n",
       "    </tr>\n",
       "    <tr>\n",
       "      <th>Description</th>\n",
       "      <th></th>\n",
       "    </tr>\n",
       "  </thead>\n",
       "  <tbody>\n",
       "    <tr>\n",
       "      <th>WORLD WAR 2 GLIDERS ASSTD DESIGNS</th>\n",
       "      <td>48326</td>\n",
       "    </tr>\n",
       "  </tbody>\n",
       "</table>\n",
       "</div>"
      ],
      "text/plain": [
       "                                   Quantity\n",
       "Description                                \n",
       "WORLD WAR 2 GLIDERS ASSTD DESIGNS     48326"
      ]
     },
     "execution_count": 225,
     "metadata": {},
     "output_type": "execute_result"
    }
   ],
   "source": [
    "questao3_1 = df[df['Country'] == 'United Kingdom'].groupby('Description')[['Quantity']].sum().sort_values('Quantity', ascending=False)\n",
    "questao3_1.head(1)"
   ]
  },
  {
   "cell_type": "markdown",
   "metadata": {},
   "source": [
    "##### Produto menos vendido \n",
    "Se o produto possui quantidade 0 ele não foi vendido, então o menos vendido tem que ser vendido pelo menos 1 vez"
   ]
  },
  {
   "cell_type": "code",
   "execution_count": 226,
   "metadata": {
    "ExecuteTime": {
     "end_time": "2022-08-08T19:19:52.184157Z",
     "start_time": "2022-08-08T19:19:52.171114Z"
    }
   },
   "outputs": [
    {
     "data": {
      "text/html": [
       "<div>\n",
       "<style scoped>\n",
       "    .dataframe tbody tr th:only-of-type {\n",
       "        vertical-align: middle;\n",
       "    }\n",
       "\n",
       "    .dataframe tbody tr th {\n",
       "        vertical-align: top;\n",
       "    }\n",
       "\n",
       "    .dataframe thead th {\n",
       "        text-align: right;\n",
       "    }\n",
       "</style>\n",
       "<table border=\"1\" class=\"dataframe\">\n",
       "  <thead>\n",
       "    <tr style=\"text-align: right;\">\n",
       "      <th></th>\n",
       "      <th>Quantity</th>\n",
       "    </tr>\n",
       "    <tr>\n",
       "      <th>Description</th>\n",
       "      <th></th>\n",
       "    </tr>\n",
       "  </thead>\n",
       "  <tbody>\n",
       "    <tr>\n",
       "      <th>COUNTRY COTTAGE  DOORSTOP GREEN</th>\n",
       "      <td>1</td>\n",
       "    </tr>\n",
       "  </tbody>\n",
       "</table>\n",
       "</div>"
      ],
      "text/plain": [
       "                                 Quantity\n",
       "Description                              \n",
       "COUNTRY COTTAGE  DOORSTOP GREEN         1"
      ]
     },
     "execution_count": 226,
     "metadata": {},
     "output_type": "execute_result"
    }
   ],
   "source": [
    "questao3_1[questao3_1['Quantity']>0].tail(1)"
   ]
  },
  {
   "cell_type": "markdown",
   "metadata": {},
   "source": [
    "### Questão 4"
   ]
  },
  {
   "cell_type": "markdown",
   "metadata": {},
   "source": [
    "##### A partir dos números apresentados e o seu conhecimento prévio, apresente ideais/estratégias que podem ser implementadas para auxiliar nossos lojistas a aumentarem o volume de vendas?"
   ]
  },
  {
   "cell_type": "markdown",
   "metadata": {},
   "source": [
    "- Podemos oberservar pelas análises que as vendas estão centralizadas na Europa, majoritariamente na Inglaterra. Como já se tem uma atuação grande na Inglaterra, creio que expandir a atuação no mercado Europeu seria o primeiro passo.\n",
    "\n",
    "- A Austrália possui aproximadamente 85 mil pedidos, poderia ser um próximo alvo de campanhas de Marketing, possuindo um Market Share maior que alguns países Europeus.\n",
    "\n",
    "- A atuação nos mercados dos EUA e Brasil são bem baixas, e são mercados de grande potencial, que poderiam também ser trabalhados em campanhas de Marketing para aumentar a atuação dos lojistas em tais mercados, o que aumentaria considerávelmente os números de vendas.\n",
    "\n",
    "- O Dataset possui dados aptos para a realização de Scripts de Mineiração de Dados como o RFV(Recência, Frequência e Valor). O RFV é um modelo de estudo de marketing para analisar o comportamento do cliente e agrupá-los em segmentações. Esses grupos de clientes (segmentações) são baseados em seus históricos de transações – o quão Recente (R), o quão Frequente (F) e o quanto de dinheiro um determinado cliente já gastou com você (M). O RFM ajuda a dividir os clientes em várias categorias para identificar quais deles possuem uma melhor taxa de de respostas para suas campanhas/promoções e também para futuras personalizações/novidades em seu serviço/produto.\n",
    "\n",
    "- Também é possível aplicar o Market basket analysis (MBA) ou, em português, análise da cesta de compras, que é uma técnica de data mining que faz uso de regras de associação para identificar os hábitos de compra dos clientes, fornecendo uma visão da combinação de produtos dentro das cestas de compras dos clientes analisados, o que possibilitaria o desenvolvimento de um sistema de recomendação de produtos, que poder acarretar em uma alavancagem nos números de vendas."
   ]
  },
  {
   "cell_type": "code",
   "execution_count": null,
   "metadata": {},
   "outputs": [],
   "source": []
  }
 ],
 "metadata": {
  "hide_input": false,
  "kernelspec": {
   "display_name": "Pycaret 3.8",
   "language": "python",
   "name": "pycaretvenv"
  },
  "language_info": {
   "codemirror_mode": {
    "name": "ipython",
    "version": 3
   },
   "file_extension": ".py",
   "mimetype": "text/x-python",
   "name": "python",
   "nbconvert_exporter": "python",
   "pygments_lexer": "ipython3",
   "version": "3.8.12"
  }
 },
 "nbformat": 4,
 "nbformat_minor": 4
}
